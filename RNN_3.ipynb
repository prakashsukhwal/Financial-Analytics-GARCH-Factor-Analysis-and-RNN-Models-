{
  "nbformat": 4,
  "nbformat_minor": 0,
  "metadata": {
    "colab": {
      "name": "RNN-3.ipynb",
      "provenance": [],
      "collapsed_sections": [],
      "toc_visible": true,
      "authorship_tag": "ABX9TyN8tncG5NIj0WTbOHr1UoKp",
      "include_colab_link": true
    },
    "kernelspec": {
      "name": "python3",
      "display_name": "Python 3"
    },
    "language_info": {
      "name": "python"
    },
    "accelerator": "GPU"
  },
  "cells": [
    {
      "cell_type": "markdown",
      "metadata": {
        "id": "view-in-github",
        "colab_type": "text"
      },
      "source": [
        "<a href=\"https://colab.research.google.com/github/prakashsukhwal/Misc./blob/main/RNN_3.ipynb\" target=\"_parent\"><img src=\"https://colab.research.google.com/assets/colab-badge.svg\" alt=\"Open In Colab\"/></a>"
      ]
    },
    {
      "cell_type": "markdown",
      "metadata": {
        "id": "bY5wRmDwE6y8"
      },
      "source": [
        "# Gather Data using APIs"
      ]
    },
    {
      "cell_type": "code",
      "metadata": {
        "id": "at4OcFVy-QCy"
      },
      "source": [
        "# data \n",
        "# we will try to pull data for AMZN share price\n",
        "# then we will try to predict the stock prices using vanilla RNN "
      ],
      "execution_count": 1,
      "outputs": []
    },
    {
      "cell_type": "code",
      "metadata": {
        "colab": {
          "base_uri": "https://localhost:8080/"
        },
        "id": "m2vsPsnUDvVI",
        "outputId": "86c333b3-417d-46b0-8cc6-0e56d2bea750"
      },
      "source": [
        "!pip install yfinance # uncomment it to download"
      ],
      "execution_count": 2,
      "outputs": [
        {
          "output_type": "stream",
          "name": "stdout",
          "text": [
            "Requirement already satisfied: yfinance in /usr/local/lib/python3.7/dist-packages (0.1.63)\n",
            "Requirement already satisfied: numpy>=1.15 in /usr/local/lib/python3.7/dist-packages (from yfinance) (1.19.5)\n",
            "Requirement already satisfied: pandas>=0.24 in /usr/local/lib/python3.7/dist-packages (from yfinance) (1.1.5)\n",
            "Requirement already satisfied: lxml>=4.5.1 in /usr/local/lib/python3.7/dist-packages (from yfinance) (4.6.3)\n",
            "Requirement already satisfied: requests>=2.20 in /usr/local/lib/python3.7/dist-packages (from yfinance) (2.23.0)\n",
            "Requirement already satisfied: multitasking>=0.0.7 in /usr/local/lib/python3.7/dist-packages (from yfinance) (0.0.9)\n",
            "Requirement already satisfied: pytz>=2017.2 in /usr/local/lib/python3.7/dist-packages (from pandas>=0.24->yfinance) (2018.9)\n",
            "Requirement already satisfied: python-dateutil>=2.7.3 in /usr/local/lib/python3.7/dist-packages (from pandas>=0.24->yfinance) (2.8.2)\n",
            "Requirement already satisfied: six>=1.5 in /usr/local/lib/python3.7/dist-packages (from python-dateutil>=2.7.3->pandas>=0.24->yfinance) (1.15.0)\n",
            "Requirement already satisfied: urllib3!=1.25.0,!=1.25.1,<1.26,>=1.21.1 in /usr/local/lib/python3.7/dist-packages (from requests>=2.20->yfinance) (1.24.3)\n",
            "Requirement already satisfied: idna<3,>=2.5 in /usr/local/lib/python3.7/dist-packages (from requests>=2.20->yfinance) (2.10)\n",
            "Requirement already satisfied: chardet<4,>=3.0.2 in /usr/local/lib/python3.7/dist-packages (from requests>=2.20->yfinance) (3.0.4)\n",
            "Requirement already satisfied: certifi>=2017.4.17 in /usr/local/lib/python3.7/dist-packages (from requests>=2.20->yfinance) (2021.5.30)\n"
          ]
        }
      ]
    },
    {
      "cell_type": "code",
      "metadata": {
        "id": "lWDl6nBj-0xx"
      },
      "source": [
        "# required libraries\n",
        "import pandas as pd\n",
        "import numpy as np\n",
        "import datetime as dt\n",
        "\n",
        "# for plots\n",
        "import matplotlib.pyplot as plt\n",
        "import seaborn as sns"
      ],
      "execution_count": 3,
      "outputs": []
    },
    {
      "cell_type": "code",
      "metadata": {
        "id": "0aP0gYHY_AUU"
      },
      "source": [
        "from sklearn.preprocessing import MinMaxScaler"
      ],
      "execution_count": 4,
      "outputs": []
    },
    {
      "cell_type": "code",
      "metadata": {
        "id": "ev8PGZHK_AXc"
      },
      "source": [
        "import torch\n",
        "import torch.nn as nn\n",
        "from torch.utils.data import TensorDataset, DataLoader"
      ],
      "execution_count": 5,
      "outputs": []
    },
    {
      "cell_type": "code",
      "metadata": {
        "id": "ec4JA97a-1-H"
      },
      "source": [
        "# ticker of choice\n",
        "tick = ['AMZN'] # you can add more or add ticker of choice such as IBM, AAPL, GOOG, GM etc.\n",
        "\n",
        "# let us start with 2015\n",
        "begin_period = '2006-01-01'\n",
        "end_period = '2018-01-01'"
      ],
      "execution_count": 6,
      "outputs": []
    },
    {
      "cell_type": "code",
      "metadata": {
        "id": "t6KD15Hf8IV3"
      },
      "source": [
        ""
      ],
      "execution_count": 6,
      "outputs": []
    },
    {
      "cell_type": "code",
      "metadata": {
        "id": "Capdz5xv-2Ad"
      },
      "source": [
        "import yfinance as yf\n",
        "# documentation: https://github.com/ranaroussi/yfinance"
      ],
      "execution_count": 7,
      "outputs": []
    },
    {
      "cell_type": "code",
      "metadata": {
        "colab": {
          "base_uri": "https://localhost:8080/",
          "height": 223
        },
        "id": "T-ff9XQN-2CW",
        "outputId": "3ef3095f-effd-4796-b17a-f291694e7a4a"
      },
      "source": [
        "data = yf.download(tick, start=begin_period, end=end_period)\n",
        "data.head(4)"
      ],
      "execution_count": 8,
      "outputs": [
        {
          "output_type": "stream",
          "name": "stdout",
          "text": [
            "\r[*********************100%***********************]  1 of 1 completed\n"
          ]
        },
        {
          "output_type": "execute_result",
          "data": {
            "text/html": [
              "<div>\n",
              "<style scoped>\n",
              "    .dataframe tbody tr th:only-of-type {\n",
              "        vertical-align: middle;\n",
              "    }\n",
              "\n",
              "    .dataframe tbody tr th {\n",
              "        vertical-align: top;\n",
              "    }\n",
              "\n",
              "    .dataframe thead th {\n",
              "        text-align: right;\n",
              "    }\n",
              "</style>\n",
              "<table border=\"1\" class=\"dataframe\">\n",
              "  <thead>\n",
              "    <tr style=\"text-align: right;\">\n",
              "      <th></th>\n",
              "      <th>Open</th>\n",
              "      <th>High</th>\n",
              "      <th>Low</th>\n",
              "      <th>Close</th>\n",
              "      <th>Adj Close</th>\n",
              "      <th>Volume</th>\n",
              "    </tr>\n",
              "    <tr>\n",
              "      <th>Date</th>\n",
              "      <th></th>\n",
              "      <th></th>\n",
              "      <th></th>\n",
              "      <th></th>\n",
              "      <th></th>\n",
              "      <th></th>\n",
              "    </tr>\n",
              "  </thead>\n",
              "  <tbody>\n",
              "    <tr>\n",
              "      <th>2006-01-03</th>\n",
              "      <td>47.470001</td>\n",
              "      <td>47.849998</td>\n",
              "      <td>46.250000</td>\n",
              "      <td>47.580002</td>\n",
              "      <td>47.580002</td>\n",
              "      <td>7582200</td>\n",
              "    </tr>\n",
              "    <tr>\n",
              "      <th>2006-01-04</th>\n",
              "      <td>47.490002</td>\n",
              "      <td>47.730000</td>\n",
              "      <td>46.689999</td>\n",
              "      <td>47.250000</td>\n",
              "      <td>47.250000</td>\n",
              "      <td>7440900</td>\n",
              "    </tr>\n",
              "    <tr>\n",
              "      <th>2006-01-05</th>\n",
              "      <td>47.160000</td>\n",
              "      <td>48.200001</td>\n",
              "      <td>47.110001</td>\n",
              "      <td>47.650002</td>\n",
              "      <td>47.650002</td>\n",
              "      <td>5417200</td>\n",
              "    </tr>\n",
              "    <tr>\n",
              "      <th>2006-01-06</th>\n",
              "      <td>47.970001</td>\n",
              "      <td>48.580002</td>\n",
              "      <td>47.320000</td>\n",
              "      <td>47.869999</td>\n",
              "      <td>47.869999</td>\n",
              "      <td>6152900</td>\n",
              "    </tr>\n",
              "  </tbody>\n",
              "</table>\n",
              "</div>"
            ],
            "text/plain": [
              "                 Open       High        Low      Close  Adj Close   Volume\n",
              "Date                                                                      \n",
              "2006-01-03  47.470001  47.849998  46.250000  47.580002  47.580002  7582200\n",
              "2006-01-04  47.490002  47.730000  46.689999  47.250000  47.250000  7440900\n",
              "2006-01-05  47.160000  48.200001  47.110001  47.650002  47.650002  5417200\n",
              "2006-01-06  47.970001  48.580002  47.320000  47.869999  47.869999  6152900"
            ]
          },
          "metadata": {},
          "execution_count": 8
        }
      ]
    },
    {
      "cell_type": "markdown",
      "metadata": {
        "id": "r4T_LSNP5UA9"
      },
      "source": [
        "## including all weekdays in the data"
      ]
    },
    {
      "cell_type": "code",
      "metadata": {
        "id": "RO9LPS4H5ARN"
      },
      "source": [
        "# quantitative trading strategies often require all weekdays\n",
        "# df = data.Close\n",
        "# # let us get all the weekdays in the desired date range\n",
        "# weekdays = pd.date_range(start= begin_period, end = end_period, freq='B')\n",
        "\n",
        "# df = df.reindex(weekdays)\n",
        "# df.head()"
      ],
      "execution_count": 9,
      "outputs": []
    },
    {
      "cell_type": "code",
      "metadata": {
        "id": "xfwo79j25Y7b"
      },
      "source": [
        "# df = pd.DataFrame(df.fillna(method='bfill'))\n",
        "# df = df.fillna(0)\n",
        "# df.head()"
      ],
      "execution_count": 10,
      "outputs": []
    },
    {
      "cell_type": "code",
      "metadata": {
        "id": "MLzrkgLj-2GZ"
      },
      "source": [
        "df = pd.DataFrame(data.Close)\n",
        "# get rownames as columns\n",
        "df.index.name = 'Date'\n",
        "df.reset_index(inplace=True)"
      ],
      "execution_count": 11,
      "outputs": []
    },
    {
      "cell_type": "code",
      "metadata": {
        "id": "mq6R20SN5Tay"
      },
      "source": [
        ""
      ],
      "execution_count": 11,
      "outputs": []
    },
    {
      "cell_type": "code",
      "metadata": {
        "colab": {
          "base_uri": "https://localhost:8080/"
        },
        "id": "ZO894ypd-2Ee",
        "outputId": "38d913d7-6ab1-4e1b-ed58-2012ce9a7a57"
      },
      "source": [
        "print(df.columns)\n",
        "print(df.dtypes)\n",
        "print(df.describe)"
      ],
      "execution_count": 12,
      "outputs": [
        {
          "output_type": "stream",
          "name": "stdout",
          "text": [
            "Index(['Date', 'Close'], dtype='object')\n",
            "Date     datetime64[ns]\n",
            "Close           float64\n",
            "dtype: object\n",
            "<bound method NDFrame.describe of            Date        Close\n",
            "0    2006-01-03    47.580002\n",
            "1    2006-01-04    47.250000\n",
            "2    2006-01-05    47.650002\n",
            "3    2006-01-06    47.869999\n",
            "4    2006-01-09    47.080002\n",
            "...         ...          ...\n",
            "3015 2017-12-22  1168.359985\n",
            "3016 2017-12-26  1176.760010\n",
            "3017 2017-12-27  1182.260010\n",
            "3018 2017-12-28  1186.099976\n",
            "3019 2017-12-29  1169.469971\n",
            "\n",
            "[3020 rows x 2 columns]>\n"
          ]
        }
      ]
    },
    {
      "cell_type": "code",
      "metadata": {
        "colab": {
          "base_uri": "https://localhost:8080/",
          "height": 425
        },
        "id": "LyePAnBB-2Im",
        "outputId": "ecb91372-b807-4d7d-934b-d2f844e6ddeb"
      },
      "source": [
        "df.tail(12)"
      ],
      "execution_count": 13,
      "outputs": [
        {
          "output_type": "execute_result",
          "data": {
            "text/html": [
              "<div>\n",
              "<style scoped>\n",
              "    .dataframe tbody tr th:only-of-type {\n",
              "        vertical-align: middle;\n",
              "    }\n",
              "\n",
              "    .dataframe tbody tr th {\n",
              "        vertical-align: top;\n",
              "    }\n",
              "\n",
              "    .dataframe thead th {\n",
              "        text-align: right;\n",
              "    }\n",
              "</style>\n",
              "<table border=\"1\" class=\"dataframe\">\n",
              "  <thead>\n",
              "    <tr style=\"text-align: right;\">\n",
              "      <th></th>\n",
              "      <th>Date</th>\n",
              "      <th>Close</th>\n",
              "    </tr>\n",
              "  </thead>\n",
              "  <tbody>\n",
              "    <tr>\n",
              "      <th>3008</th>\n",
              "      <td>2017-12-13</td>\n",
              "      <td>1164.130005</td>\n",
              "    </tr>\n",
              "    <tr>\n",
              "      <th>3009</th>\n",
              "      <td>2017-12-14</td>\n",
              "      <td>1174.260010</td>\n",
              "    </tr>\n",
              "    <tr>\n",
              "      <th>3010</th>\n",
              "      <td>2017-12-15</td>\n",
              "      <td>1179.140015</td>\n",
              "    </tr>\n",
              "    <tr>\n",
              "      <th>3011</th>\n",
              "      <td>2017-12-18</td>\n",
              "      <td>1190.579956</td>\n",
              "    </tr>\n",
              "    <tr>\n",
              "      <th>3012</th>\n",
              "      <td>2017-12-19</td>\n",
              "      <td>1187.380005</td>\n",
              "    </tr>\n",
              "    <tr>\n",
              "      <th>3013</th>\n",
              "      <td>2017-12-20</td>\n",
              "      <td>1177.619995</td>\n",
              "    </tr>\n",
              "    <tr>\n",
              "      <th>3014</th>\n",
              "      <td>2017-12-21</td>\n",
              "      <td>1174.760010</td>\n",
              "    </tr>\n",
              "    <tr>\n",
              "      <th>3015</th>\n",
              "      <td>2017-12-22</td>\n",
              "      <td>1168.359985</td>\n",
              "    </tr>\n",
              "    <tr>\n",
              "      <th>3016</th>\n",
              "      <td>2017-12-26</td>\n",
              "      <td>1176.760010</td>\n",
              "    </tr>\n",
              "    <tr>\n",
              "      <th>3017</th>\n",
              "      <td>2017-12-27</td>\n",
              "      <td>1182.260010</td>\n",
              "    </tr>\n",
              "    <tr>\n",
              "      <th>3018</th>\n",
              "      <td>2017-12-28</td>\n",
              "      <td>1186.099976</td>\n",
              "    </tr>\n",
              "    <tr>\n",
              "      <th>3019</th>\n",
              "      <td>2017-12-29</td>\n",
              "      <td>1169.469971</td>\n",
              "    </tr>\n",
              "  </tbody>\n",
              "</table>\n",
              "</div>"
            ],
            "text/plain": [
              "           Date        Close\n",
              "3008 2017-12-13  1164.130005\n",
              "3009 2017-12-14  1174.260010\n",
              "3010 2017-12-15  1179.140015\n",
              "3011 2017-12-18  1190.579956\n",
              "3012 2017-12-19  1187.380005\n",
              "3013 2017-12-20  1177.619995\n",
              "3014 2017-12-21  1174.760010\n",
              "3015 2017-12-22  1168.359985\n",
              "3016 2017-12-26  1176.760010\n",
              "3017 2017-12-27  1182.260010\n",
              "3018 2017-12-28  1186.099976\n",
              "3019 2017-12-29  1169.469971"
            ]
          },
          "metadata": {},
          "execution_count": 13
        }
      ]
    },
    {
      "cell_type": "code",
      "metadata": {
        "colab": {
          "base_uri": "https://localhost:8080/",
          "height": 622
        },
        "id": "WrkahLeJ-2K-",
        "outputId": "a9078909-5d7e-4a29-f8ba-c90b1d36815f"
      },
      "source": [
        "# let us plot this data\n",
        "# to do:pls complete the figure with adding lables to axes\n",
        "sns.set_theme()\n",
        "plt.figure(figsize= (15, 10))\n",
        "plt.plot(df.Close)\n",
        "plt.xticks(range(0, df.shape[0], 100), df.Date.loc[::50], rotation=30)\n",
        "# plt.plot(roll_mean, color='red')\n",
        "\n",
        "plt.show()"
      ],
      "execution_count": 14,
      "outputs": [
        {
          "output_type": "display_data",
          "data": {
            "image/png": "[encoded data removed]",
            "text/plain": [
              "<Figure size 1080x720 with 1 Axes>"
            ]
          },
          "metadata": {}
        }
      ]
    },
    {
      "cell_type": "code",
      "metadata": {
        "id": "nGDIiBSr-zZr"
      },
      "source": [
        ""
      ],
      "execution_count": 14,
      "outputs": []
    },
    {
      "cell_type": "markdown",
      "metadata": {
        "id": "Ey6mH5e6-5dH"
      },
      "source": [
        "# Data Prep"
      ]
    },
    {
      "cell_type": "code",
      "metadata": {
        "id": "5suZp644-zc1"
      },
      "source": [
        "# min max standardization\n",
        "scale = MinMaxScaler(feature_range=(-1, 1))\n",
        "# scale.fit_transform(df.Close.values) # gives error that 2D expected and got 1D\n",
        "df['Close_norm'] = scale.fit_transform(df.Close.values.reshape(-1, 1))"
      ],
      "execution_count": 15,
      "outputs": []
    },
    {
      "cell_type": "code",
      "metadata": {
        "id": "sB8N-ASyoFqZ"
      },
      "source": [
        "def train_test_prep(series, window_size, test_prop=0.3): \n",
        "  # series should be a numpy series\n",
        "  series = series.to_numpy()\n",
        "  data = []\n",
        "  for i in range(len(series) - window_size):\n",
        "    data.append(series[i: i+window_size])\n",
        "  data = np.array(data)\n",
        "\n",
        "  test_size = int(np.round(test_prop* data.shape[0]))\n",
        "  train_size = data.shape[0] - test_size\n",
        "\n",
        "  train_x = data[:train_size, :-1]\n",
        "  train_y = data[:train_size, -1]\n",
        "\n",
        "  test_x = data[train_size:, :-1]\n",
        "  test_y = data[train_size:, -1]\n",
        "\n",
        "  return [train_x, train_y, test_x, test_y]"
      ],
      "execution_count": 16,
      "outputs": []
    },
    {
      "cell_type": "code",
      "metadata": {
        "colab": {
          "base_uri": "https://localhost:8080/"
        },
        "id": "5PSrzvxwqv55",
        "outputId": "ab82c428-4f4d-459b-b34f-258c15aa918f"
      },
      "source": [
        "ws = 12\n",
        "\n",
        "x_train, y_train, x_test, y_test = train_test_prep(df[['Close_norm']], ws)\n",
        "\n",
        "print('train_x', x_train.shape)#train_x (2106, 11, 1)\n",
        "print('train_y', y_train.shape)#train_y (2106, 1)\n",
        "\n",
        "print('test_x', x_test.shape)#test_x (902, 11, 1)\n",
        "print('test_y', y_test.shape)#test_y (902, 1, 1)"
      ],
      "execution_count": 17,
      "outputs": [
        {
          "output_type": "stream",
          "name": "stdout",
          "text": [
            "train_x (2106, 11, 1)\n",
            "train_y (2106, 1)\n",
            "test_x (902, 11, 1)\n",
            "test_y (902, 1)\n"
          ]
        }
      ]
    },
    {
      "cell_type": "code",
      "metadata": {
        "id": "wVdqiGYlvk-g"
      },
      "source": [
        "# data.Close[:25]"
      ],
      "execution_count": 18,
      "outputs": []
    },
    {
      "cell_type": "code",
      "metadata": {
        "id": "6GAHOcPOu-bY"
      },
      "source": [
        "# y_train[:5]"
      ],
      "execution_count": 19,
      "outputs": []
    },
    {
      "cell_type": "code",
      "metadata": {
        "id": "MmglLrWgqv8D"
      },
      "source": [
        "# x_train[:5]"
      ],
      "execution_count": 20,
      "outputs": []
    },
    {
      "cell_type": "code",
      "metadata": {
        "id": "x2hR7BiAqv9-"
      },
      "source": [
        "#  put all arrays to tensors\n",
        "x_train = torch.FloatTensor(x_train).cuda()\n",
        "y_train = torch.FloatTensor(y_train).cuda()\n",
        "\n",
        "x_test = torch.FloatTensor(x_test).cuda()\n",
        "y_test = torch.FloatTensor(y_test).cuda()"
      ],
      "execution_count": 21,
      "outputs": []
    },
    {
      "cell_type": "code",
      "metadata": {
        "colab": {
          "base_uri": "https://localhost:8080/"
        },
        "id": "34lLx6P2qwAc",
        "outputId": "de4f423e-4668-4f29-8805-64afd6854350"
      },
      "source": [
        "print('train_x', x_train.shape)#train_x (2106, 11, 1)\n",
        "print('train_y', y_train.shape)#train_y (2106, 1)\n",
        "\n",
        "print('test_x', x_test.shape)#test_x (902, 11, 1)\n",
        "print('test_y', y_test.shape)#test_y (902, 1, 1)"
      ],
      "execution_count": 22,
      "outputs": [
        {
          "output_type": "stream",
          "name": "stdout",
          "text": [
            "train_x torch.Size([2106, 11, 1])\n",
            "train_y torch.Size([2106, 1])\n",
            "test_x torch.Size([902, 11, 1])\n",
            "test_y torch.Size([902, 1])\n"
          ]
        }
      ]
    },
    {
      "cell_type": "markdown",
      "metadata": {
        "id": "E2iJgNHx-h-6"
      },
      "source": [
        "# Vanilla RNN\n"
      ]
    },
    {
      "cell_type": "code",
      "metadata": {
        "id": "TtMl4F-RMa6c"
      },
      "source": [
        "# batch_size = 200\n",
        "input_dim = 1\n",
        "hidden_dim = 100\n",
        "num_layers = 1\n",
        "# out_dim = 1\n",
        "learning_rate = 0.01\n",
        "epochs = 100"
      ],
      "execution_count": 23,
      "outputs": []
    },
    {
      "cell_type": "code",
      "metadata": {
        "id": "RrMDlDvdLlPv"
      },
      "source": [
        "# define RNN\n",
        "class RNN(nn.Module):\n",
        "  def __init__(self, input_size=1, hidden_size=100):\n",
        "    super().__init__()\n",
        "    self.hidden_size = hidden_size\n",
        "    \n",
        "    self.rnn = nn.RNN(input_size = input_size, \n",
        "                      hidden_size = hidden_size, \n",
        "                      batch_first = True,\n",
        "                      nonlinearity = 'tanh') # inputs in (batch, seq, features)\n",
        "    self.fc1 = nn.Linear(hidden_size, 1) # outputing 1 value at the end\n",
        "    # h0 \n",
        "    self.hidden = torch.zeros(1,1,self.hidden_size)\n",
        "\n",
        "  def forward(self, x):\n",
        "    out, self.hidden =  self.rnn(x.view(1,len(x),-1), \n",
        "                                 self.hidden)\n",
        "    out = out.view(-1, self.hidden_size)\n",
        "    out = self.fc1(out)\n",
        "    print('out length: ',out[-1])\n",
        "    return out[-1]"
      ],
      "execution_count": 24,
      "outputs": []
    },
    {
      "cell_type": "code",
      "metadata": {
        "colab": {
          "base_uri": "https://localhost:8080/"
        },
        "id": "jF92LoFbZqf3",
        "outputId": "9bb17cde-fc26-4afb-ecc8-0787b1c5223f"
      },
      "source": [
        "# initialize model\n",
        "model = RNN()\n",
        "loss_function = nn.MSELoss(reduction='mean')\n",
        "optimizer = torch.optim.SGD(model.parameters(), lr = learning_rate)\n",
        "model = model.cuda()\n",
        "model"
      ],
      "execution_count": 25,
      "outputs": [
        {
          "output_type": "execute_result",
          "data": {
            "text/plain": [
              "RNN(\n",
              "  (rnn): RNN(1, 100, batch_first=True)\n",
              "  (fc1): Linear(in_features=100, out_features=1, bias=True)\n",
              ")"
            ]
          },
          "metadata": {},
          "execution_count": 25
        }
      ]
    },
    {
      "cell_type": "code",
      "metadata": {
        "colab": {
          "base_uri": "https://localhost:8080/"
        },
        "id": "VAtfjzY_a2hG",
        "outputId": "dbe6789b-4c14-4bae-9724-b17fc00418a4"
      },
      "source": [
        "next(model.parameters()).is_cuda"
      ],
      "execution_count": 26,
      "outputs": [
        {
          "output_type": "execute_result",
          "data": {
            "text/plain": [
              "True"
            ]
          },
          "metadata": {},
          "execution_count": 26
        }
      ]
    },
    {
      "cell_type": "code",
      "metadata": {
        "colab": {
          "base_uri": "https://localhost:8080/"
        },
        "id": "QO8tUzPf1JuN",
        "outputId": "0d210b9f-9cbc-4dd5-8cd4-f838a84ad8ec"
      },
      "source": [
        "import time\n",
        "\n",
        "losses = np.zeros(epochs)\n",
        "start = time.time()\n",
        "rnn = []\n",
        "\n",
        "for epoch in range(epochs):\n",
        "  optimizer.zero_grad()\n",
        "  model.hidden = torch.zeros(1,1,model.hidden_size).cuda()\n",
        "  y_train_pred = model(x_train.view(-1))\n",
        "\n",
        "  loss = loss_function(y_train_pred, y_train)\n",
        "  print('Epoch number: ', epoch, 'Error: ', loss.item())\n",
        "  losses[epoch] = loss.item()\n",
        "  loss.backward()\n",
        "  optimizer.step()\n",
        "\n",
        "print('training took: ', time.time() - start)\n"
      ],
      "execution_count": 27,
      "outputs": [
        {
          "output_type": "stream",
          "name": "stdout",
          "text": [
            "out length:  tensor([0.0274], device='cuda:0', grad_fn=<SelectBackward>)\n",
            "Epoch number:  0 Error:  0.6928635239601135\n"
          ]
        },
        {
          "output_type": "stream",
          "name": "stderr",
          "text": [
            "/usr/local/lib/python3.7/dist-packages/torch/nn/modules/loss.py:528: UserWarning: Using a target size (torch.Size([2106, 1])) that is different to the input size (torch.Size([1])). This will likely lead to incorrect results due to broadcasting. Please ensure they have the same size.\n",
            "  return F.mse_loss(input, target, reduction=self.reduction)\n"
          ]
        },
        {
          "output_type": "stream",
          "name": "stdout",
          "text": [
            "out length:  tensor([-0.0234], device='cuda:0', grad_fn=<SelectBackward>)\n",
            "Epoch number:  1 Error:  0.6126347780227661\n",
            "out length:  tensor([-0.0710], device='cuda:0', grad_fn=<SelectBackward>)\n",
            "Epoch number:  2 Error:  0.542111337184906\n",
            "out length:  tensor([-0.1160], device='cuda:0', grad_fn=<SelectBackward>)\n",
            "Epoch number:  3 Error:  0.4795699417591095\n",
            "out length:  tensor([-0.1589], device='cuda:0', grad_fn=<SelectBackward>)\n",
            "Epoch number:  4 Error:  0.42376893758773804\n",
            "out length:  tensor([-0.1999], device='cuda:0', grad_fn=<SelectBackward>)\n",
            "Epoch number:  5 Error:  0.37379124760627747\n",
            "out length:  tensor([-0.2394], device='cuda:0', grad_fn=<SelectBackward>)\n",
            "Epoch number:  6 Error:  0.32894444465637207\n",
            "out length:  tensor([-0.2774], device='cuda:0', grad_fn=<SelectBackward>)\n",
            "Epoch number:  7 Error:  0.2886941432952881\n",
            "out length:  tensor([-0.3140], device='cuda:0', grad_fn=<SelectBackward>)\n",
            "Epoch number:  8 Error:  0.2526180148124695\n",
            "out length:  tensor([-0.3493], device='cuda:0', grad_fn=<SelectBackward>)\n",
            "Epoch number:  9 Error:  0.22037258744239807\n",
            "out length:  tensor([-0.3834], device='cuda:0', grad_fn=<SelectBackward>)\n",
            "Epoch number:  10 Error:  0.19166867434978485\n",
            "out length:  tensor([-0.4161], device='cuda:0', grad_fn=<SelectBackward>)\n",
            "Epoch number:  11 Error:  0.16625262796878815\n",
            "out length:  tensor([-0.4475], device='cuda:0', grad_fn=<SelectBackward>)\n",
            "Epoch number:  12 Error:  0.14389225840568542\n",
            "out length:  tensor([-0.4774], device='cuda:0', grad_fn=<SelectBackward>)\n",
            "Epoch number:  13 Error:  0.12436666339635849\n",
            "out length:  tensor([-0.5060], device='cuda:0', grad_fn=<SelectBackward>)\n",
            "Epoch number:  14 Error:  0.1074589267373085\n",
            "out length:  tensor([-0.5330], device='cuda:0', grad_fn=<SelectBackward>)\n",
            "Epoch number:  15 Error:  0.09295177459716797\n",
            "out length:  tensor([-0.5584], device='cuda:0', grad_fn=<SelectBackward>)\n",
            "Epoch number:  16 Error:  0.08062615245580673\n",
            "out length:  tensor([-0.5822], device='cuda:0', grad_fn=<SelectBackward>)\n",
            "Epoch number:  17 Error:  0.07026141881942749\n",
            "out length:  tensor([-0.6043], device='cuda:0', grad_fn=<SelectBackward>)\n",
            "Epoch number:  18 Error:  0.06163789704442024\n",
            "out length:  tensor([-0.6247], device='cuda:0', grad_fn=<SelectBackward>)\n",
            "Epoch number:  19 Error:  0.05454006418585777\n",
            "out length:  tensor([-0.6435], device='cuda:0', grad_fn=<SelectBackward>)\n",
            "Epoch number:  20 Error:  0.04876059666275978\n",
            "out length:  tensor([-0.6606], device='cuda:0', grad_fn=<SelectBackward>)\n",
            "Epoch number:  21 Error:  0.04410422593355179\n",
            "out length:  tensor([-0.6761], device='cuda:0', grad_fn=<SelectBackward>)\n",
            "Epoch number:  22 Error:  0.040391113609075546\n",
            "out length:  tensor([-0.6901], device='cuda:0', grad_fn=<SelectBackward>)\n",
            "Epoch number:  23 Error:  0.03745918348431587\n",
            "out length:  tensor([-0.7026], device='cuda:0', grad_fn=<SelectBackward>)\n",
            "Epoch number:  24 Error:  0.035165537148714066\n",
            "out length:  tensor([-0.7137], device='cuda:0', grad_fn=<SelectBackward>)\n",
            "Epoch number:  25 Error:  0.03338675573468208\n",
            "out length:  tensor([-0.7236], device='cuda:0', grad_fn=<SelectBackward>)\n",
            "Epoch number:  26 Error:  0.03201833739876747\n",
            "out length:  tensor([-0.7323], device='cuda:0', grad_fn=<SelectBackward>)\n",
            "Epoch number:  27 Error:  0.030973341315984726\n",
            "out length:  tensor([-0.7399], device='cuda:0', grad_fn=<SelectBackward>)\n",
            "Epoch number:  28 Error:  0.030180640518665314\n",
            "out length:  tensor([-0.7466], device='cuda:0', grad_fn=<SelectBackward>)\n",
            "Epoch number:  29 Error:  0.02958293817937374\n",
            "out length:  tensor([-0.7524], device='cuda:0', grad_fn=<SelectBackward>)\n",
            "Epoch number:  30 Error:  0.029134690761566162\n",
            "out length:  tensor([-0.7574], device='cuda:0', grad_fn=<SelectBackward>)\n",
            "Epoch number:  31 Error:  0.028800122439861298\n",
            "out length:  tensor([-0.7618], device='cuda:0', grad_fn=<SelectBackward>)\n",
            "Epoch number:  32 Error:  0.02855144999921322\n",
            "out length:  tensor([-0.7656], device='cuda:0', grad_fn=<SelectBackward>)\n",
            "Epoch number:  33 Error:  0.02836732380092144\n",
            "out length:  tensor([-0.7688], device='cuda:0', grad_fn=<SelectBackward>)\n",
            "Epoch number:  34 Error:  0.028231412172317505\n",
            "out length:  tensor([-0.7716], device='cuda:0', grad_fn=<SelectBackward>)\n",
            "Epoch number:  35 Error:  0.028131386265158653\n",
            "out length:  tensor([-0.7740], device='cuda:0', grad_fn=<SelectBackward>)\n",
            "Epoch number:  36 Error:  0.028057944029569626\n",
            "out length:  tensor([-0.7761], device='cuda:0', grad_fn=<SelectBackward>)\n",
            "Epoch number:  37 Error:  0.02800413779914379\n",
            "out length:  tensor([-0.7778], device='cuda:0', grad_fn=<SelectBackward>)\n",
            "Epoch number:  38 Error:  0.027964791283011436\n",
            "out length:  tensor([-0.7793], device='cuda:0', grad_fn=<SelectBackward>)\n",
            "Epoch number:  39 Error:  0.02793605998158455\n",
            "out length:  tensor([-0.7806], device='cuda:0', grad_fn=<SelectBackward>)\n",
            "Epoch number:  40 Error:  0.02791511081159115\n",
            "out length:  tensor([-0.7817], device='cuda:0', grad_fn=<SelectBackward>)\n",
            "Epoch number:  41 Error:  0.027899855747818947\n",
            "out length:  tensor([-0.7827], device='cuda:0', grad_fn=<SelectBackward>)\n",
            "Epoch number:  42 Error:  0.02788875438272953\n",
            "out length:  tensor([-0.7835], device='cuda:0', grad_fn=<SelectBackward>)\n",
            "Epoch number:  43 Error:  0.027880685403943062\n",
            "out length:  tensor([-0.7842], device='cuda:0', grad_fn=<SelectBackward>)\n",
            "Epoch number:  44 Error:  0.027874821797013283\n",
            "out length:  tensor([-0.7847], device='cuda:0', grad_fn=<SelectBackward>)\n",
            "Epoch number:  45 Error:  0.02787056937813759\n",
            "out length:  tensor([-0.7852], device='cuda:0', grad_fn=<SelectBackward>)\n",
            "Epoch number:  46 Error:  0.027867479249835014\n",
            "out length:  tensor([-0.7857], device='cuda:0', grad_fn=<SelectBackward>)\n",
            "Epoch number:  47 Error:  0.02786524035036564\n",
            "out length:  tensor([-0.7860], device='cuda:0', grad_fn=<SelectBackward>)\n",
            "Epoch number:  48 Error:  0.02786361612379551\n",
            "out length:  tensor([-0.7863], device='cuda:0', grad_fn=<SelectBackward>)\n",
            "Epoch number:  49 Error:  0.027862440794706345\n",
            "out length:  tensor([-0.7866], device='cuda:0', grad_fn=<SelectBackward>)\n",
            "Epoch number:  50 Error:  0.027861587703227997\n",
            "out length:  tensor([-0.7868], device='cuda:0', grad_fn=<SelectBackward>)\n",
            "Epoch number:  51 Error:  0.02786097303032875\n",
            "out length:  tensor([-0.7870], device='cuda:0', grad_fn=<SelectBackward>)\n",
            "Epoch number:  52 Error:  0.027860524132847786\n",
            "out length:  tensor([-0.7872], device='cuda:0', grad_fn=<SelectBackward>)\n",
            "Epoch number:  53 Error:  0.02786020003259182\n",
            "out length:  tensor([-0.7873], device='cuda:0', grad_fn=<SelectBackward>)\n",
            "Epoch number:  54 Error:  0.027859967201948166\n",
            "out length:  tensor([-0.7874], device='cuda:0', grad_fn=<SelectBackward>)\n",
            "Epoch number:  55 Error:  0.027859795838594437\n",
            "out length:  tensor([-0.7875], device='cuda:0', grad_fn=<SelectBackward>)\n",
            "Epoch number:  56 Error:  0.027859672904014587\n",
            "out length:  tensor([-0.7876], device='cuda:0', grad_fn=<SelectBackward>)\n",
            "Epoch number:  57 Error:  0.027859585359692574\n",
            "out length:  tensor([-0.7877], device='cuda:0', grad_fn=<SelectBackward>)\n",
            "Epoch number:  58 Error:  0.0278595220297575\n",
            "out length:  tensor([-0.7877], device='cuda:0', grad_fn=<SelectBackward>)\n",
            "Epoch number:  59 Error:  0.02785947360098362\n",
            "out length:  tensor([-0.7878], device='cuda:0', grad_fn=<SelectBackward>)\n",
            "Epoch number:  60 Error:  0.027859440073370934\n",
            "out length:  tensor([-0.7878], device='cuda:0', grad_fn=<SelectBackward>)\n",
            "Epoch number:  61 Error:  0.027859415858983994\n",
            "out length:  tensor([-0.7879], device='cuda:0', grad_fn=<SelectBackward>)\n",
            "Epoch number:  62 Error:  0.02785939909517765\n",
            "out length:  tensor([-0.7879], device='cuda:0', grad_fn=<SelectBackward>)\n",
            "Epoch number:  63 Error:  0.027859386056661606\n",
            "out length:  tensor([-0.7879], device='cuda:0', grad_fn=<SelectBackward>)\n",
            "Epoch number:  64 Error:  0.02785937674343586\n",
            "out length:  tensor([-0.7880], device='cuda:0', grad_fn=<SelectBackward>)\n",
            "Epoch number:  65 Error:  0.027859369292855263\n",
            "out length:  tensor([-0.7880], device='cuda:0', grad_fn=<SelectBackward>)\n",
            "Epoch number:  66 Error:  0.027859363704919815\n",
            "out length:  tensor([-0.7880], device='cuda:0', grad_fn=<SelectBackward>)\n",
            "Epoch number:  67 Error:  0.027859359979629517\n",
            "out length:  tensor([-0.7880], device='cuda:0', grad_fn=<SelectBackward>)\n",
            "Epoch number:  68 Error:  0.027859359979629517\n",
            "out length:  tensor([-0.7880], device='cuda:0', grad_fn=<SelectBackward>)\n",
            "Epoch number:  69 Error:  0.027859356254339218\n",
            "out length:  tensor([-0.7880], device='cuda:0', grad_fn=<SelectBackward>)\n",
            "Epoch number:  70 Error:  0.027859356254339218\n",
            "out length:  tensor([-0.7880], device='cuda:0', grad_fn=<SelectBackward>)\n",
            "Epoch number:  71 Error:  0.027859356254339218\n",
            "out length:  tensor([-0.7880], device='cuda:0', grad_fn=<SelectBackward>)\n",
            "Epoch number:  72 Error:  0.02785935252904892\n",
            "out length:  tensor([-0.7881], device='cuda:0', grad_fn=<SelectBackward>)\n",
            "Epoch number:  73 Error:  0.02785935252904892\n",
            "out length:  tensor([-0.7881], device='cuda:0', grad_fn=<SelectBackward>)\n",
            "Epoch number:  74 Error:  0.02785935252904892\n",
            "out length:  tensor([-0.7881], device='cuda:0', grad_fn=<SelectBackward>)\n",
            "Epoch number:  75 Error:  0.02785935252904892\n",
            "out length:  tensor([-0.7881], device='cuda:0', grad_fn=<SelectBackward>)\n",
            "Epoch number:  76 Error:  0.02785935252904892\n",
            "out length:  tensor([-0.7881], device='cuda:0', grad_fn=<SelectBackward>)\n",
            "Epoch number:  77 Error:  0.02785935252904892\n",
            "out length:  tensor([-0.7881], device='cuda:0', grad_fn=<SelectBackward>)\n",
            "Epoch number:  78 Error:  0.02785935252904892\n",
            "out length:  tensor([-0.7881], device='cuda:0', grad_fn=<SelectBackward>)\n",
            "Epoch number:  79 Error:  0.02785935252904892\n",
            "out length:  tensor([-0.7881], device='cuda:0', grad_fn=<SelectBackward>)\n",
            "Epoch number:  80 Error:  0.02785935252904892\n",
            "out length:  tensor([-0.7881], device='cuda:0', grad_fn=<SelectBackward>)\n",
            "Epoch number:  81 Error:  0.02785935252904892\n",
            "out length:  tensor([-0.7881], device='cuda:0', grad_fn=<SelectBackward>)\n",
            "Epoch number:  82 Error:  0.02785935252904892\n",
            "out length:  tensor([-0.7881], device='cuda:0', grad_fn=<SelectBackward>)\n",
            "Epoch number:  83 Error:  0.02785935066640377\n",
            "out length:  tensor([-0.7881], device='cuda:0', grad_fn=<SelectBackward>)\n",
            "Epoch number:  84 Error:  0.02785935252904892\n",
            "out length:  tensor([-0.7881], device='cuda:0', grad_fn=<SelectBackward>)\n",
            "Epoch number:  85 Error:  0.02785935066640377\n",
            "out length:  tensor([-0.7881], device='cuda:0', grad_fn=<SelectBackward>)\n",
            "Epoch number:  86 Error:  0.02785935252904892\n",
            "out length:  tensor([-0.7881], device='cuda:0', grad_fn=<SelectBackward>)\n",
            "Epoch number:  87 Error:  0.02785935252904892\n",
            "out length:  tensor([-0.7881], device='cuda:0', grad_fn=<SelectBackward>)\n",
            "Epoch number:  88 Error:  0.02785935252904892\n",
            "out length:  tensor([-0.7881], device='cuda:0', grad_fn=<SelectBackward>)\n",
            "Epoch number:  89 Error:  0.02785935066640377\n",
            "out length:  tensor([-0.7881], device='cuda:0', grad_fn=<SelectBackward>)\n",
            "Epoch number:  90 Error:  0.02785935252904892\n",
            "out length:  tensor([-0.7881], device='cuda:0', grad_fn=<SelectBackward>)\n",
            "Epoch number:  91 Error:  0.02785935252904892\n",
            "out length:  tensor([-0.7881], device='cuda:0', grad_fn=<SelectBackward>)\n",
            "Epoch number:  92 Error:  0.02785935252904892\n",
            "out length:  tensor([-0.7881], device='cuda:0', grad_fn=<SelectBackward>)\n",
            "Epoch number:  93 Error:  0.02785935252904892\n",
            "out length:  tensor([-0.7881], device='cuda:0', grad_fn=<SelectBackward>)\n",
            "Epoch number:  94 Error:  0.02785935066640377\n",
            "out length:  tensor([-0.7881], device='cuda:0', grad_fn=<SelectBackward>)\n",
            "Epoch number:  95 Error:  0.02785935066640377\n",
            "out length:  tensor([-0.7881], device='cuda:0', grad_fn=<SelectBackward>)\n",
            "Epoch number:  96 Error:  0.02785935252904892\n",
            "out length:  tensor([-0.7881], device='cuda:0', grad_fn=<SelectBackward>)\n",
            "Epoch number:  97 Error:  0.02785935252904892\n",
            "out length:  tensor([-0.7881], device='cuda:0', grad_fn=<SelectBackward>)\n",
            "Epoch number:  98 Error:  0.02785935252904892\n",
            "out length:  tensor([-0.7881], device='cuda:0', grad_fn=<SelectBackward>)\n",
            "Epoch number:  99 Error:  0.02785935252904892\n",
            "training took:  43.698418378829956\n"
          ]
        }
      ]
    },
    {
      "cell_type": "code",
      "metadata": {
        "id": "-KAX0wRp9wfw"
      },
      "source": [
        "hist = losses"
      ],
      "execution_count": 38,
      "outputs": []
    },
    {
      "cell_type": "code",
      "metadata": {
        "colab": {
          "base_uri": "https://localhost:8080/",
          "height": 268
        },
        "id": "RR_xs9kP_bG1",
        "outputId": "305f481b-0b1f-47f0-d761-671a8d1a142f"
      },
      "source": [
        "# plt.figure(figsize = (8, 8))\n",
        "plt.style.use(\"dark_background\") # https://matplotlib.org/stable/gallery/style_sheets/style_sheets_reference.html\n",
        "plt.plot(losses)\n",
        "plt.xlabel = 'epochs'\n",
        "plt.ylabel = 'loss values'\n",
        "plt.show()"
      ],
      "execution_count": 39,
      "outputs": [
        {
          "output_type": "display_data",
          "data": {
            "image/png": "[encoded data removed]",
            "text/plain": [
              "<Figure size 432x288 with 1 Axes>"
            ]
          },
          "metadata": {}
        }
      ]
    },
    {
      "cell_type": "code",
      "metadata": {
        "id": "FQZOPhdK1J3E"
      },
      "source": [
        "predictions = y_train_pred.detach().cpu()\n",
        "predictions = scale.inverse_transform(np.array(predictions).reshape(-1, 1))\n",
        "predict = pd.DataFrame(predictions)"
      ],
      "execution_count": 41,
      "outputs": []
    },
    {
      "cell_type": "code",
      "metadata": {
        "colab": {
          "base_uri": "https://localhost:8080/"
        },
        "id": "27tR2M74-Me2",
        "outputId": "a10ac3df-9014-4b84-c981-89428f56712c"
      },
      "source": [
        "len(predict)"
      ],
      "execution_count": 45,
      "outputs": [
        {
          "output_type": "execute_result",
          "data": {
            "text/plain": [
              "1"
            ]
          },
          "metadata": {},
          "execution_count": 45
        }
      ]
    },
    {
      "cell_type": "code",
      "metadata": {
        "id": "K7l-Cm487Oeu"
      },
      "source": [
        "y_train= y_train.detach().cpu()\n",
        "original = scale.inverse_transform(np.array(y_train).reshape(-1, 1))\n",
        "original = pd.DataFrame(original)"
      ],
      "execution_count": 43,
      "outputs": []
    },
    {
      "cell_type": "code",
      "metadata": {
        "colab": {
          "base_uri": "https://localhost:8080/"
        },
        "id": "6gX7JgYY-Iv2",
        "outputId": "8c60996e-9c6d-4830-ab13-6e3987f937e1"
      },
      "source": [
        "len(original)"
      ],
      "execution_count": 46,
      "outputs": [
        {
          "output_type": "execute_result",
          "data": {
            "text/plain": [
              "2106"
            ]
          },
          "metadata": {},
          "execution_count": 46
        }
      ]
    }
  ]
}